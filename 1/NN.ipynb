{
 "cells": [
  {
   "cell_type": "code",
   "execution_count": 49,
   "metadata": {
    "ExecuteTime": {
     "end_time": "2021-02-02T03:23:01.437880Z",
     "start_time": "2021-02-02T03:23:01.339190Z"
    }
   },
   "outputs": [],
   "source": [
    "import os\n",
    "import pandas as pd\n",
    "import numpy as np\n",
    "import math\n",
    "import time\n",
    "import argparse\n",
    "import torch\n",
    "from sklearn.model_selection import StratifiedKFold, train_test_split\n",
    "from sklearn.preprocessing import StandardScaler\n",
    "from torch.utils.data import DataLoader, Dataset\n",
    "import torch.nn.functional as F\n",
    "from torch.nn import Module\n",
    "from torch import optim\n",
    "import tqdm\n",
    "import shutil\n",
    "from torch.utils.tensorboard import SummaryWriter\n",
    "import datetime\n",
    "from multiprocessing import cpu_count\n",
    "import matplotlib.pyplot as plt\n",
    "import seaborn as sns\n",
    "from sklearn.metrics import roc_curve, auc\n",
    "from matplotlib.pylab import mpl"
   ]
  },
  {
   "cell_type": "code",
   "execution_count": 11,
   "metadata": {
    "ExecuteTime": {
     "end_time": "2021-02-02T02:54:46.397549Z",
     "start_time": "2021-02-02T02:54:46.206536Z"
    }
   },
   "outputs": [],
   "source": [
    "%matplotlib qt"
   ]
  },
  {
   "cell_type": "code",
   "execution_count": null,
   "metadata": {},
   "outputs": [],
   "source": [
    "plt.rcParams['xtick.direction'] = 'in'\n",
    "plt.rcParams['ytick.direction'] = 'in'\n",
    "mpl.rcParams['axes.unicode_minus'] = False  #显示负号"
   ]
  },
  {
   "cell_type": "code",
   "execution_count": 174,
   "metadata": {
    "ExecuteTime": {
     "end_time": "2020-11-16T09:13:02.272170Z",
     "start_time": "2020-11-16T09:13:02.224187Z"
    },
    "code_folding": [
     0,
     66
    ]
   },
   "outputs": [],
   "source": [
    "def classify_provider(features_path, label_path, n_splits, batch_size, num_workers, method='origin'):\n",
    "    # Amp,RiseT,Dur,Eny,RMS,Counts\n",
    "    with open(features_path, 'r') as f:\n",
    "        feature = np.array([i.split(',')[6:-4] for i in f.readlines()[1:]])\n",
    "    feature = feature.astype(np.float32)\n",
    "\n",
    "    with open(label_path, 'r') as f:\n",
    "        label = np.array([i.strip() for i in f.readlines()[1:]])\n",
    "    label = label.astype(np.float32).reshape(-1, 1)\n",
    "    label[np.where(label == 2)] = 0\n",
    "    ext = np.zeros([feature.shape[0], 1]).astype(np.float32)\n",
    "    ext[np.where(label == 0)[0].tolist()] = 1\n",
    "    label = np.concatenate((label, ext), axis=1)\n",
    "\n",
    "    df = pd.DataFrame(feature)\n",
    "    df.columns = ['Amp', 'RiseT', 'Dur', 'Eny', 'RMS', 'Counts']\n",
    "    df['Counts/Dur'] = df['Counts'] / df['Dur']\n",
    "    df['RiseT/Dur'] = df['RiseT'] / df['Dur']\n",
    "    df['Eny/Dur'] = df['Eny'] / df['Dur']\n",
    "    df['Amp*RiseT'] = df['Amp'] * df['RiseT']\n",
    "\n",
    "    if method == '10_select':\n",
    "        feature = df.values\n",
    "    elif method == '6_select':\n",
    "        feature = df[['Eny', 'Amp*RiseT', 'Dur', 'RMS', 'Counts/Dur', 'RiseT/Dur']].values\n",
    "\n",
    "    train_dfs = list()\n",
    "    val_dfs = list()\n",
    "    all_dfs = list()\n",
    "    if n_splits != 1:\n",
    "        skf = StratifiedKFold(n_splits=n_splits, shuffle=True, random_state=69)\n",
    "        for train_df_index, val_df_index in skf.split(feature, label[:, 0]):\n",
    "            train_dfs.append([feature[train_df_index], label[train_df_index, :]])\n",
    "            val_dfs.append([feature[val_df_index], label[val_df_index, :]])\n",
    "    else:\n",
    "        df_temp = train_test_split(feature, label, test_size=0.2, stratify=label, random_state=69)\n",
    "        train_dfs.append([df_temp[0], df_temp[2]])\n",
    "        val_dfs.append([df_temp[1], df_temp[3]])\n",
    "        all_dfs.append([np.concatenate((df_temp[0], df_temp[1]), axis=0),\n",
    "                         np.concatenate((df_temp[2], df_temp[3]), axis=0)])\n",
    "        # print(len(train_dfs), len(val_dfs), len(all_dfs))\n",
    "\n",
    "    dataloaders = list()\n",
    "    for df_index, (train_df, val_df, all_df) in enumerate(zip(train_dfs, val_dfs, all_dfs)):\n",
    "        train_dataset = SteelClassDataset(train_df)\n",
    "        val_dataset = SteelClassDataset(val_df)\n",
    "        all_dataset = SteelClassDataset(all_df)\n",
    "        train_dataloader = DataLoader(train_dataset,\n",
    "                                      batch_size=batch_size,\n",
    "                                      num_workers=num_workers,\n",
    "                                      pin_memory=False,\n",
    "                                      shuffle=True)\n",
    "        val_dataloader = DataLoader(val_dataset,\n",
    "                                    batch_size=batch_size,\n",
    "                                    num_workers=num_workers,\n",
    "                                    pin_memory=False,\n",
    "                                    shuffle=False)\n",
    "        all_dataloader = DataLoader(all_dataset,\n",
    "                                     batch_size=batch_size,\n",
    "                                     num_workers=num_workers,\n",
    "                                     pin_memory=False,\n",
    "                                     shuffle=False)\n",
    "        dataloaders.append([train_dataloader, val_dataloader, all_dataloader])\n",
    "    return feature, label, dataloaders\n",
    "\n",
    "\n",
    "class SteelClassDataset(Dataset):\n",
    "    def __init__(self, dataset):\n",
    "        super(SteelClassDataset, self).__init__()\n",
    "        self.feature = dataset[0]\n",
    "        self.label = dataset[1]\n",
    "\n",
    "    def __getitem__(self, idx):\n",
    "        x = self.feature[idx]\n",
    "        y = self.label[idx]\n",
    "        return x, y\n",
    "\n",
    "    def __len__(self):\n",
    "        return len(self.label)"
   ]
  },
  {
   "cell_type": "code",
   "execution_count": 4,
   "metadata": {
    "ExecuteTime": {
     "end_time": "2020-11-16T06:28:55.025585Z",
     "start_time": "2020-11-16T06:28:55.008617Z"
    },
    "code_folding": [
     0
    ]
   },
   "outputs": [],
   "source": [
    "class Classify_model(Module):\n",
    "    def __init__(self, layer, method='origin', training=True):\n",
    "        super(Classify_model, self).__init__()\n",
    "        if method in ['origin', '6_select']:\n",
    "            self.linear1 = torch.nn.Linear(6, layer[0])\n",
    "            self.linear2 = torch.nn.Linear(layer[0], layer[1])\n",
    "            self.linear3 = torch.nn.Linear(layer[1], 2)\n",
    "        elif method == '10_select':\n",
    "            self.linear1 = torch.nn.Linear(10, layer[0])\n",
    "            self.linear2 = torch.nn.Linear(layer[0], layer[1])\n",
    "            self.linear3 = torch.nn.Linear(layer[1], layer[2])\n",
    "            self.linear4 = torch.nn.Linear(layer[2], 2)\n",
    "        self.relu = torch.nn.ReLU()\n",
    "        self.sigmoid = torch.nn.Sigmoid()\n",
    "        self.training = training\n",
    "\n",
    "    def forward(self, input, method):\n",
    "        if method in ['origin', '6_select']:\n",
    "            y = self.linear1(input)\n",
    "            y = self.relu(y)\n",
    "            y = self.linear2(y)\n",
    "            y = self.relu(y)\n",
    "            y = self.linear3(y)\n",
    "        elif method == '10_select':\n",
    "            y = self.linear1(input)\n",
    "            y = self.sigmoid(y)\n",
    "            y = F.dropout(y, 0.5, training=self.training)\n",
    "            y = self.linear2(y)\n",
    "            y = self.sigmoid(y)\n",
    "            y = F.dropout(y, 0.5, training=self.training)\n",
    "            y = self.linear3(y)\n",
    "            y = self.sigmoid(y)\n",
    "            y = F.dropout(y, 0.5, training=self.training)\n",
    "            y = self.linear4(y)\n",
    "        return y"
   ]
  },
  {
   "cell_type": "code",
   "execution_count": 5,
   "metadata": {
    "ExecuteTime": {
     "end_time": "2020-11-16T06:28:56.478170Z",
     "start_time": "2020-11-16T06:28:56.465195Z"
    },
    "code_folding": [
     0
    ]
   },
   "outputs": [],
   "source": [
    "class Solver():\n",
    "    def __init__(self, model, method):\n",
    "        self.model = model\n",
    "        self.method = method\n",
    "\n",
    "    def forward(self, x):\n",
    "        outputs = self.model(x, self.method)\n",
    "        return outputs\n",
    "\n",
    "    def cal_loss(self, targets, predicts, criterion):\n",
    "        return criterion(predicts, targets)\n",
    "\n",
    "    def backword(self, optimizer, loss):\n",
    "        loss.backward()\n",
    "        optimizer.step()\n",
    "        optimizer.zero_grad()\n",
    "\n",
    "    def save_checkpoint(self, save_path, state, is_best):\n",
    "        # torch.save(state, save_path)\n",
    "        if is_best:\n",
    "            torch.save(state, save_path)\n",
    "            print('Saving Best Model.')\n",
    "            # save_best_path = save_path.replace('.pth', '_best.pth')\n",
    "            # shutil.copyfile(save_path, save_best_path)\n",
    "\n",
    "    def load_checkpoint(self, load_path):\n",
    "        if os.path.isfile(load_path):\n",
    "            checkpoint = torch.load(load_path, map_location='cpu')\n",
    "            # self.model.module.load_state_dict(checkpoint['state_dict'])\n",
    "            print('Successfully Loaded from %s' % (load_path))\n",
    "            return self.model\n",
    "        else:\n",
    "            raise FileNotFoundError(\n",
    "                \"Can not find weight file in {}\".format(load_path))"
   ]
  },
  {
   "cell_type": "code",
   "execution_count": 176,
   "metadata": {
    "ExecuteTime": {
     "end_time": "2020-11-16T09:23:02.141885Z",
     "start_time": "2020-11-16T09:23:02.069896Z"
    },
    "code_folding": [
     0
    ],
    "scrolled": true
   },
   "outputs": [
    {
     "name": "stderr",
     "output_type": "stream",
     "text": [
      "100%|█████████████████████████████████████████| 41/41 [00:00<00:00, 1138.97it/s]\n"
     ]
    }
   ],
   "source": [
    "if __name__ == \"__main__\":\n",
    "    method = 'origin'\n",
    "    features_path = './pri_database.txt'\n",
    "    label_path = './label.txt'\n",
    "    weight_path = './checkpoints/origin/2020-11-16T14-26-21-16-classify/classify_fold0_origin_0.973121.pth'\n",
    "    n_splits = 1\n",
    "    batch_size = 16\n",
    "    layer = [100, 80, 10]\n",
    "    feature, _, dataloaders = classify_provider(\n",
    "        features_path, label_path, n_splits, batch_size, 0, method)\n",
    "\n",
    "    model = Classify_model(layer, method, training=False)\n",
    "    model.eval()\n",
    "    model.train(False)\n",
    "    solver = Solver(model, method)\n",
    "    checkpoint = torch.load(weight_path, map_location=torch.device('cpu'))\n",
    "    model.load_state_dict(checkpoint['state_dict'], False)\n",
    "    tbar = tqdm.tqdm(dataloaders[0][2], ncols=80)\n",
    "    res, res_sigmoid, res_01, Label = [], [], [], []\n",
    "    with torch.no_grad():\n",
    "        for i, (x, labels) in enumerate(tbar):\n",
    "            labels_row = solver.forward(x)\n",
    "            labels_predict = torch.sigmoid(labels_row)\n",
    "            predict = (labels_predict > 0.5).float()\n",
    "            res_01.append(predict.data.cpu().numpy())\n",
    "            res_sigmoid.append(labels_predict.data.cpu().numpy())\n",
    "            res.append(labels_row.data.cpu().numpy())\n",
    "            Label.append(labels.data.cpu().numpy())\n",
    "            correct.append(sum(predict+labels == 2).data.cpu().numpy())"
   ]
  },
  {
   "cell_type": "code",
   "execution_count": 163,
   "metadata": {
    "ExecuteTime": {
     "end_time": "2020-11-16T08:05:46.373336Z",
     "start_time": "2020-11-16T08:05:46.355338Z"
    },
    "code_folding": [
     0
    ]
   },
   "outputs": [],
   "source": [
    "def metric(p, t):\n",
    "    tp = ((p[:,1] + t[:,1]) == 2).sum(0)  # True positives\n",
    "    tn = ((p[:,0] + t[:,0]) == 2).sum(0)  # True negatives\n",
    "    total_pos = t[:, 1].sum(0)\n",
    "    total_neg = t[:, 0].sum(0)\n",
    "    fp = total_neg - tn    # 将负类错误预测为正类数\n",
    "    fn = total_pos - tp     # 将正类错误预测为负类数\n",
    "    # 各个类别预测正确的正样本、负样本数目\n",
    "    class_neg_accuracy = tn / t[:, 0].sum(0)\n",
    "    class_pos_accuracy = tp / t[:, 1].sum(0)\n",
    "    \n",
    "    return class_pos_accuracy, class_neg_accuracy, tp, total_pos, tn, total_neg, fp, fn"
   ]
  },
  {
   "cell_type": "code",
   "execution_count": 177,
   "metadata": {
    "ExecuteTime": {
     "end_time": "2020-11-16T09:23:09.790092Z",
     "start_time": "2020-11-16T09:23:09.782067Z"
    }
   },
   "outputs": [
    {
     "name": "stdout",
     "output_type": "stream",
     "text": [
      "0.92941, 0.98228, 237/255, 388/395, 7, 18\n"
     ]
    }
   ],
   "source": [
    "pre = np.concatenate([i for i in res_01])\n",
    "label = np.concatenate([i for i in Label])\n",
    "class_pos_accuracy, class_neg_accuracy, tp, total_pos, tn, total_neg, fp, fn = metric(pre, label)\n",
    "print('{:.5f}, {:.5f}, {}/{:.0f}, {}/{:.0f}, {:.0f}, {:.0f}'.\n",
    "      format(class_pos_accuracy, class_neg_accuracy, tp, total_pos, tn, total_neg, fp, fn))"
   ]
  },
  {
   "cell_type": "code",
   "execution_count": 178,
   "metadata": {
    "ExecuteTime": {
     "end_time": "2020-11-16T09:23:43.766720Z",
     "start_time": "2020-11-16T09:23:43.591691Z"
    }
   },
   "outputs": [
    {
     "data": {
      "image/png": "[encoded data removed]",
      "text/plain": [
       "<Figure size 180x144 with 2 Axes>"
      ]
     },
     "metadata": {
      "needs_background": "light"
     },
     "output_type": "display_data"
    }
   ],
   "source": [
    "_, _, tp, _, tn, _, fp, fn = metric(pre, label)\n",
    "\n",
    "cm = np.zeros([2, 2])\n",
    "cm[0][0], cm[0][1], cm[1][0], cm[1][1] = tp, fn, fp, tn\n",
    "f,ax=plt.subplots(figsize=(2.5, 2))\n",
    "sns.heatmap(cm,annot=True,ax=ax, fmt='.20g') #画热力图\n",
    "# ax.set_title('Confusion Matrix') #标题\n",
    "# ax.set_xlabel('Predicted label') #x轴\n",
    "# ax.set_ylabel('True label') #y轴\n",
    "\n",
    "ax.xaxis.set_ticks_position('top')\n",
    "ax.yaxis.set_ticks_position('left')\n",
    "# ax.set_xticks(['Class 1', 'Class 2'])\n",
    "# ax.set_yticks(['Class 1', 'Class 2'])\n",
    "ax.tick_params(bottom=False,top=False,left=False,right=False)"
   ]
  },
  {
   "cell_type": "markdown",
   "metadata": {},
   "source": [
    "## ROC curve"
   ]
  },
  {
   "cell_type": "code",
   "execution_count": 173,
   "metadata": {
    "ExecuteTime": {
     "end_time": "2020-11-16T08:49:31.115715Z",
     "start_time": "2020-11-16T08:49:30.919638Z"
    }
   },
   "outputs": [
    {
     "data": {
      "text/plain": [
       "<matplotlib.legend.Legend at 0x151ac97f820>"
      ]
     },
     "execution_count": 173,
     "metadata": {},
     "output_type": "execute_result"
    },
    {
     "data": {
      "image/png": "[encoded data removed]",
      "text/plain": [
       "<Figure size 576x432 with 1 Axes>"
      ]
     },
     "metadata": {
      "needs_background": "light"
     },
     "output_type": "display_data"
    }
   ],
   "source": [
    "y_pre = np.concatenate([i for i in res_sigmoid])\n",
    "fpr, tpr, thersholds = roc_curve(label[: ,0], y_pre[: ,0])\n",
    "roc_auc = auc(fpr, tpr)\n",
    "\n",
    "plt.figure(figsize=[8, 6])\n",
    "plt.plot(fpr, tpr, 'k--', color='navy', label='ROC (area = {0:.3f})'.format(roc_auc), lw=2)\n",
    "\n",
    "ax = plt.gca()\n",
    "ax.spines['bottom'].set_linewidth(2)\n",
    "ax.spines['left'].set_linewidth(2)\n",
    "ax.spines['right'].set_linewidth(2)\n",
    "ax.spines['top'].set_linewidth(2)\n",
    "\n",
    "font_legend = {'family':'DejaVu Sans','weight':'normal','size':15}\n",
    "font_label = {'family': 'DejaVu Sans', 'weight': 'bold', 'size': 20}\n",
    "font_title = {'family': 'DejaVu Sans', 'weight': 'bold', 'size': 30}\n",
    "\n",
    "# 设置坐标刻度值的大小以及刻度值的字体\n",
    "plt.tick_params(labelsize=16)\n",
    "labels = ax.get_xticklabels() + ax.get_yticklabels()\n",
    "[label.set_fontname('DejaVu Sans') for label in labels]\n",
    "\n",
    "# plt.xlim(-5, 150)\n",
    "# plt.xticks(range(0, 149, 29), labels=['1', '30', '60', '90', '120', '150'])\n",
    "plt.ylabel('False Positive Rate', font_label)\n",
    "plt.xlabel('True Positive Rate', font_label)\n",
    "plt.legend(loc=\"lower right\", prop=font_legend)"
   ]
  },
  {
   "cell_type": "markdown",
   "metadata": {},
   "source": [
    "## Export ML"
   ]
  },
  {
   "cell_type": "code",
   "execution_count": null,
   "metadata": {},
   "outputs": [],
   "source": [
    "def cal_ML(tmp, features_path, cls_1, cls_2):\n",
    "    tmp_1, tmp_2 = sorted(tmp[cls_1]), sorted(tmp[cls_2])\n",
    "    N1, N2 = len(tmp_1), len(tmp_2)\n",
    "    ML_y1, ML_y2 = [], []\n",
    "    Error_bar1, Error_bar2 = [] ,[]\n",
    "    for j in range(N1):\n",
    "        valid_x = sorted(tmp_1)[j:]\n",
    "        E0 = valid_x[0]\n",
    "        Sum = np.sum(np.log(valid_x/E0))\n",
    "        N_prime = N1 - j\n",
    "        alpha = 1 + N_prime / Sum\n",
    "        error_bar = (alpha - 1) / pow(N_prime, 0.5)\n",
    "        ML_y1.append(alpha)\n",
    "        Error_bar1.append(error_bar)\n",
    "    for j in range(N2):\n",
    "        valid_x = sorted(tmp_2)[j:]\n",
    "        E0 = valid_x[0]\n",
    "        Sum = np.sum(np.log(valid_x/E0))\n",
    "        N_prime = N2 - j\n",
    "        alpha = 1 + N_prime / Sum\n",
    "        error_bar = (alpha - 1) / pow(N_prime, 0.5)\n",
    "        ML_y2.append(alpha)\n",
    "        Error_bar2.append(error_bar)\n",
    "    \n",
    "    with open(features_path[:-4] + '_1 ' + 'Energy' + '_ML.txt', 'w') as f:\n",
    "        f.write('Energy, ε, Error bar\\n')\n",
    "        for j in range(len(ML_y1)):\n",
    "            f.write('{}, {}, {}\\n'.format(sorted(tmp_1)[j], ML_y1[j], Error_bar1[j]))\n",
    "    with open(features_path[:-4] + '_2 ' + 'Energy' + '_ML.txt', 'w') as f:\n",
    "        f.write('Energy, ε, Error bar\\n')\n",
    "        for j in range(len(ML_y2)):\n",
    "            f.write('{}, {}, {}\\n'.format(sorted(tmp_2)[j], ML_y2[j], Error_bar2[j]))"
   ]
  },
  {
   "cell_type": "code",
   "execution_count": null,
   "metadata": {},
   "outputs": [],
   "source": [
    "predict = np.concatenate([i for i in res_01])\n",
    "cls_1 = predict[:, 0] == 1\n",
    "cls_2 = predict[:, 1] == 1\n",
    "features_path = r'6_2_select.txt'\n",
    "cal_ML(feature[:, 3], features_path, cls_1, cls_2)"
   ]
  },
  {
   "cell_type": "code",
   "execution_count": null,
   "metadata": {
    "ExecuteTime": {
     "end_time": "2021-01-29T10:42:35.655933Z",
     "start_time": "2021-01-29T10:42:35.397913Z"
    },
    "scrolled": true
   },
   "outputs": [],
   "source": [
    "sum(cls_1), sum(cls_2), sum(label[:, 0] == 1), sum(label[:, 1] == 1)"
   ]
  },
  {
   "cell_type": "markdown",
   "metadata": {},
   "source": [
    "## SVM"
   ]
  },
  {
   "cell_type": "code",
   "execution_count": 46,
   "metadata": {
    "ExecuteTime": {
     "end_time": "2021-02-02T03:19:25.701878Z",
     "start_time": "2021-02-02T03:19:25.697736Z"
    }
   },
   "outputs": [],
   "source": [
    "from sklearn.svm import SVC\n",
    "from sklearn.model_selection import train_test_split\n",
    "from sklearn.preprocessing import StandardScaler\n",
    "from sklearn.ensemble import RandomForestClassifier\n",
    "import pandas as pd\n",
    "import seaborn as sns\n",
    "from sklearn.metrics import classification_report, accuracy_score, precision_score, recall_score, f1_score, cohen_kappa_score, roc_curve, auc, confusion_matrix"
   ]
  },
  {
   "cell_type": "code",
   "execution_count": 71,
   "metadata": {
    "ExecuteTime": {
     "end_time": "2021-02-02T04:20:58.552464Z",
     "start_time": "2021-02-02T04:20:58.528465Z"
    },
    "code_folding": [
     0,
     36,
     45
    ]
   },
   "outputs": [],
   "source": [
    "def plot_norm(ax, xlabel=None, ylabel=None, zlabel=None, title=None, x_lim=[], y_lim=[], z_lim=[], legend=True, grid=False, \n",
    "              legend_loc='upper left', font_color='black', legendsize=11, labelsize=14, titlesize=15, ticksize=13, linewidth=2):\n",
    "    ax.spines['bottom'].set_linewidth(linewidth)\n",
    "    ax.spines['left'].set_linewidth(linewidth)\n",
    "    ax.spines['right'].set_linewidth(linewidth)\n",
    "    ax.spines['top'].set_linewidth(linewidth)\n",
    "\n",
    "    # 设置坐标刻度值的大小以及刻度值的字体 Arial\n",
    "    ax.tick_params(which='both', width=linewidth, labelsize=ticksize, colors=font_color)\n",
    "    labels = ax.get_xticklabels() + ax.get_yticklabels()\n",
    "    [label.set_fontname('Arial') for label in labels]\n",
    "\n",
    "    font_legend = {'family': 'Arial', 'weight': 'normal', 'size': legendsize}\n",
    "    font_label = {'family': 'Arial', 'weight': 'bold', 'size': labelsize, 'color':font_color}\n",
    "    font_title = {'family': 'Arial', 'weight': 'bold', 'size': titlesize, 'color':font_color}\n",
    "\n",
    "    if x_lim:\n",
    "        ax.set_xlim(x_lim[0], x_lim[1])\n",
    "    if y_lim:\n",
    "        ax.set_ylim(y_lim[0], y_lim[1])\n",
    "    if z_lim:\n",
    "        ax.set_zlim(z_lim[0], z_lim[1])\n",
    "    if legend:\n",
    "        plt.legend(loc=legend_loc, prop=font_legend)\n",
    "    if grid:\n",
    "        ax.grid(ls='-.')\n",
    "    if xlabel:\n",
    "        ax.set_xlabel(xlabel, font_label)\n",
    "    if ylabel:\n",
    "        ax.set_ylabel(ylabel, font_label)\n",
    "    if zlabel:\n",
    "        ax.set_zlabel(zlabel, font_label)\n",
    "    if title:\n",
    "        ax.set_title(title, font_title)\n",
    "    plt.tight_layout()\n",
    "\n",
    "def plot_confmat(tn, fp, fn, tp):\n",
    "    cm = np.zeros([2, 2])\n",
    "    cm[0][0], cm[0][1], cm[1][0], cm[1][1] = tn, fp, fn, tp\n",
    "    f, ax=plt.subplots(figsize=(2.5, 2))\n",
    "    sns.heatmap(cm,annot=True, ax=ax, fmt='.20g') #画热力图\n",
    "    ax.xaxis.set_ticks_position('top')\n",
    "    ax.yaxis.set_ticks_position('left')\n",
    "    ax.tick_params(bottom=False,top=False,left=False,right=False)\n",
    "\n",
    "def print_res(model, x_pred, y_true):\n",
    "    target_pred = model.predict(x_pred)\n",
    "    true = np.sum(target_pred == y_true)\n",
    "    print('预测对的结果数目为：', true)\n",
    "    print('预测错的的结果数目为：', y_true.shape[0]-true)\n",
    "    print('使用SVM预测的准确率为：',\n",
    "          accuracy_score(y_true, target_pred))\n",
    "    print('使用SVM预测的精确率为：',\n",
    "          precision_score(y_true, target_pred))\n",
    "    print('使用SVM预测的召回率为：',\n",
    "          recall_score(y_true, target_pred))\n",
    "    print('使用SVM预测的F1值为：',\n",
    "          f1_score(y_true, target_pred))\n",
    "    print('使用SVM预测b的Cohen’s Kappa系数为：',\n",
    "          cohen_kappa_score(y_true, target_pred))\n",
    "    print('使用SVM预测的分类报告为：','\\n',\n",
    "          classification_report(y_true, target_pred))\n",
    "    tn, fp, fn, tp = confusion_matrix(y_true, target_pred).ravel()\n",
    "    plot_confmat(tn, fp, fn, tp)\n",
    "    return target_pred"
   ]
  },
  {
   "cell_type": "markdown",
   "metadata": {},
   "source": [
    "### Dislocation"
   ]
  },
  {
   "cell_type": "code",
   "execution_count": 78,
   "metadata": {
    "ExecuteTime": {
     "end_time": "2021-02-02T04:25:39.975867Z",
     "start_time": "2021-02-02T04:25:39.572294Z"
    }
   },
   "outputs": [
    {
     "name": "stderr",
     "output_type": "stream",
     "text": [
      "D:\\Anaconda3\\envs\\pytorch\\lib\\site-packages\\sklearn\\svm\\_base.py:231: ConvergenceWarning: Solver terminated early (max_iter=200).  Consider pre-processing your data with StandardScaler or MinMaxScaler.\n",
      "  % self.max_iter, ConvergenceWarning)\n"
     ]
    },
    {
     "name": "stdout",
     "output_type": "stream",
     "text": [
      "建立的SVM模型为：\n",
      " SVC(C=1.0, break_ties=False, cache_size=200, class_weight=None, coef0=0.0,\n",
      "    decision_function_shape='ovr', degree=3, gamma='scale', kernel='rbf',\n",
      "    max_iter=200, probability=False, random_state=100, shrinking=True,\n",
      "    tol=0.001, verbose=False)\n",
      "建立的RF模型为：\n",
      " RandomForestClassifier(bootstrap=True, ccp_alpha=0.0, class_weight=None,\n",
      "                       criterion='gini', max_depth=10, max_features='auto',\n",
      "                       max_leaf_nodes=None, max_samples=None,\n",
      "                       min_impurity_decrease=0.0, min_impurity_split=None,\n",
      "                       min_samples_leaf=1, min_samples_split=2,\n",
      "                       min_weight_fraction_leaf=0.0, n_estimators=100,\n",
      "                       n_jobs=None, oob_score=False, random_state=100,\n",
      "                       verbose=0, warm_start=False)\n"
     ]
    }
   ],
   "source": [
    "fold = r'C:\\Users\\jonah\\Desktop\\Ni_dislocation.csv'\n",
    "data = pd.read_csv(fold).astype(np.float32)\n",
    "feature = data.iloc[:, :-1].values\n",
    "label = np.array(data.iloc[:, -1].tolist()).reshape(-1, 1)\n",
    "# ext = np.zeros([label.shape[0], 1]).astype(np.float32)\n",
    "# ext[np.where(label == 0)[0]] = 1\n",
    "# label = np.concatenate((label, ext), axis=1)\n",
    "\n",
    "df_temp = train_test_split(feature, label, test_size=0.2, stratify=label, random_state=69)\n",
    "stdScaler = StandardScaler().fit(df_temp[0])\n",
    "trainStd = stdScaler.transform(df_temp[0])\n",
    "testStd = stdScaler.transform(df_temp[1])\n",
    "\n",
    "svm = SVC(max_iter=200, random_state=100).fit(trainStd, df_temp[2].reshape(-1))\n",
    "print('建立的SVM模型为：\\n', svm)\n",
    "\n",
    "rf = RandomForestClassifier(max_depth=10, random_state=100).fit(trainStd, df_temp[2].reshape(-1))\n",
    "print('建立的RF模型为：\\n', rf)"
   ]
  },
  {
   "cell_type": "code",
   "execution_count": 63,
   "metadata": {
    "ExecuteTime": {
     "end_time": "2021-02-02T14:09:56.936147Z",
     "start_time": "2021-02-02T14:09:56.765903Z"
    }
   },
   "outputs": [
    {
     "name": "stdout",
     "output_type": "stream",
     "text": [
      "预测对的结果数目为： 305\n",
      "预测错的的结果数目为： 11\n",
      "使用SVM预测的准确率为： 0.9651898734177216\n",
      "使用SVM预测的精确率为： 0.967741935483871\n",
      "使用SVM预测的召回率为： 0.9448818897637795\n",
      "使用SVM预测的F1值为： 0.9561752988047808\n",
      "使用SVM预测b的Cohen’s Kappa系数为： 0.9273107486407361\n",
      "使用SVM预测的分类报告为： \n",
      "               precision    recall  f1-score   support\n",
      "\n",
      "         0.0       0.96      0.98      0.97       189\n",
      "         1.0       0.97      0.94      0.96       127\n",
      "\n",
      "    accuracy                           0.97       316\n",
      "   macro avg       0.97      0.96      0.96       316\n",
      "weighted avg       0.97      0.97      0.97       316\n",
      "\n"
     ]
    }
   ],
   "source": [
    "target_pred_svm = print_res(svm, testStd, df_temp[3].reshape(-1))"
   ]
  },
  {
   "cell_type": "code",
   "execution_count": 65,
   "metadata": {
    "ExecuteTime": {
     "end_time": "2021-02-02T14:06:10.602591Z",
     "start_time": "2021-02-02T14:06:10.413495Z"
    },
    "code_folding": []
   },
   "outputs": [
    {
     "name": "stdout",
     "output_type": "stream",
     "text": [
      "预测对的结果数目为： 312\n",
      "预测错的的结果数目为： 4\n",
      "使用SVM预测的准确率为： 0.9873417721518988\n",
      "使用SVM预测的精确率为： 1.0\n",
      "使用SVM预测的召回率为： 0.968503937007874\n",
      "使用SVM预测的F1值为： 0.9839999999999999\n",
      "使用SVM预测b的Cohen’s Kappa系数为： 0.9735332300347586\n",
      "使用SVM预测的分类报告为： \n",
      "               precision    recall  f1-score   support\n",
      "\n",
      "         0.0       0.98      1.00      0.99       189\n",
      "         1.0       1.00      0.97      0.98       127\n",
      "\n",
      "    accuracy                           0.99       316\n",
      "   macro avg       0.99      0.98      0.99       316\n",
      "weighted avg       0.99      0.99      0.99       316\n",
      "\n"
     ]
    }
   ],
   "source": [
    "target_pred_rf = print_res(rf, testStd, df_temp[3].reshape(-1))"
   ]
  },
  {
   "cell_type": "code",
   "execution_count": 25,
   "metadata": {
    "ExecuteTime": {
     "end_time": "2021-02-02T04:21:37.960752Z",
     "start_time": "2021-02-02T04:21:37.784231Z"
    }
   },
   "outputs": [],
   "source": [
    "fpr_svm, tpr_svm, thersholds_svm = roc_curve(df_temp[3].reshape(-1), target_pred_svm)\n",
    "roc_auc_svm = auc(fpr_svm, tpr_svm)\n",
    "fpr_rf, tpr_rf, thersholds_rf = roc_curve(df_temp[3].reshape(-1), target_pred_rf)\n",
    "roc_auc_rf = auc(fpr_rf, tpr_rf)\n",
    "\n",
    "fig = plt.figure(figsize=[6, 3.9])\n",
    "ax = plt.subplot()\n",
    "\n",
    "ax.plot(fpr_svm, tpr_svm, 'k--', color='navy', label='SVM (area = {0:.3f})'.format(roc_auc_svm), lw=2)\n",
    "ax.plot(fpr_rf, tpr_rf, 'k--', color='green', label='RF (area = {0:.3f})'.format(roc_auc_rf), lw=2)\n",
    "\n",
    "plot_norm(ax, 'True Positive Rate', 'False Positive Rate', legend_loc='lower right')"
   ]
  },
  {
   "cell_type": "code",
   "execution_count": 5,
   "metadata": {
    "ExecuteTime": {
     "end_time": "2021-02-02T02:52:58.771492Z",
     "start_time": "2021-02-02T02:52:58.723461Z"
    }
   },
   "outputs": [
    {
     "data": {
      "text/plain": [
       "(57.0, (173,))"
      ]
     },
     "execution_count": 5,
     "metadata": {},
     "output_type": "execute_result"
    }
   ],
   "source": [
    "fold = r'C:\\Users\\jonah\\Desktop\\Nano_Ni_3_cnts_4.csv'\n",
    "data = pd.read_csv(fold).astype(np.float32)\n",
    "nano_ni = data.values\n",
    "stdScaler = StandardScaler().fit(nano_ni)\n",
    "trainStd = stdScaler.transform(nano_ni)\n",
    "target_pred = svm.predict(trainStd)\n",
    "sum(target_pred), target_pred.shape"
   ]
  },
  {
   "cell_type": "code",
   "execution_count": 79,
   "metadata": {
    "ExecuteTime": {
     "end_time": "2021-02-02T04:25:43.990686Z",
     "start_time": "2021-02-02T04:25:43.962684Z"
    }
   },
   "outputs": [
    {
     "data": {
      "text/plain": [
       "(65.0, (173,))"
      ]
     },
     "execution_count": 79,
     "metadata": {},
     "output_type": "execute_result"
    }
   ],
   "source": [
    "fold = r'C:\\Users\\jonah\\Desktop\\Nano_Ni_3_cnts_4.csv'\n",
    "data = pd.read_csv(fold).astype(np.float32)\n",
    "nano_ni = data.values\n",
    "stdScaler = StandardScaler().fit(nano_ni)\n",
    "trainStd = stdScaler.transform(nano_ni)\n",
    "target_pred = rf.predict(trainStd)\n",
    "sum(target_pred), target_pred.shape"
   ]
  },
  {
   "cell_type": "markdown",
   "metadata": {},
   "source": [
    "### Twinning"
   ]
  },
  {
   "cell_type": "code",
   "execution_count": 88,
   "metadata": {
    "ExecuteTime": {
     "end_time": "2021-02-02T14:06:04.133655Z",
     "start_time": "2021-02-02T14:06:03.716555Z"
    },
    "scrolled": false
   },
   "outputs": [
    {
     "name": "stderr",
     "output_type": "stream",
     "text": [
      "D:\\Anaconda3\\envs\\pytorch\\lib\\site-packages\\sklearn\\svm\\_base.py:231: ConvergenceWarning: Solver terminated early (max_iter=200).  Consider pre-processing your data with StandardScaler or MinMaxScaler.\n",
      "  % self.max_iter, ConvergenceWarning)\n"
     ]
    },
    {
     "name": "stdout",
     "output_type": "stream",
     "text": [
      "建立的SVM模型为：\n",
      " SVC(C=1.0, break_ties=False, cache_size=200, class_weight=None, coef0=0.0,\n",
      "    decision_function_shape='ovr', degree=3, gamma='scale', kernel='rbf',\n",
      "    max_iter=200, probability=False, random_state=100, shrinking=True,\n",
      "    tol=0.001, verbose=False)\n",
      "建立的RF模型为：\n",
      " RandomForestClassifier(bootstrap=True, ccp_alpha=0.0, class_weight=None,\n",
      "                       criterion='gini', max_depth=10, max_features='auto',\n",
      "                       max_leaf_nodes=None, max_samples=None,\n",
      "                       min_impurity_decrease=0.0, min_impurity_split=None,\n",
      "                       min_samples_leaf=1, min_samples_split=2,\n",
      "                       min_weight_fraction_leaf=0.0, n_estimators=100,\n",
      "                       n_jobs=None, oob_score=False, random_state=100,\n",
      "                       verbose=0, warm_start=False)\n"
     ]
    }
   ],
   "source": [
    "fold = r'C:\\Users\\jonah\\Desktop\\Ni_twinning.csv'\n",
    "data = pd.read_csv(fold).astype(np.float32)\n",
    "feature = data.iloc[:, :-1].values\n",
    "label = np.array(data.iloc[:, -1].tolist()).reshape(-1, 1)\n",
    "\n",
    "df_temp = train_test_split(feature, label, test_size=0.2, stratify=label, random_state=69)\n",
    "stdScaler = StandardScaler().fit(df_temp[0])\n",
    "trainStd = stdScaler.transform(df_temp[0])\n",
    "testStd = stdScaler.transform(df_temp[1])\n",
    "\n",
    "svm = SVC(max_iter=200, random_state=100).fit(trainStd, df_temp[2].reshape(-1))\n",
    "print('建立的SVM模型为：\\n', svm)\n",
    "\n",
    "rf = RandomForestClassifier(max_depth=10, random_state=100).fit(trainStd, df_temp[2].reshape(-1))\n",
    "print('建立的RF模型为：\\n', rf)"
   ]
  },
  {
   "cell_type": "code",
   "execution_count": 92,
   "metadata": {
    "ExecuteTime": {
     "end_time": "2021-02-02T14:09:56.936147Z",
     "start_time": "2021-02-02T14:09:56.765903Z"
    }
   },
   "outputs": [
    {
     "name": "stdout",
     "output_type": "stream",
     "text": [
      "预测对的结果数目为： 211\n",
      "预测错的的结果数目为： 8\n",
      "使用SVM预测的准确率为： 0.9634703196347032\n",
      "使用SVM预测的精确率为： 0.9696969696969697\n",
      "使用SVM预测的召回率为： 0.9696969696969697\n",
      "使用SVM预测的F1值为： 0.9696969696969697\n",
      "使用SVM预测b的Cohen’s Kappa系数为： 0.9237199582027168\n",
      "使用SVM预测的分类报告为： \n",
      "               precision    recall  f1-score   support\n",
      "\n",
      "         0.0       0.95      0.95      0.95        87\n",
      "         1.0       0.97      0.97      0.97       132\n",
      "\n",
      "    accuracy                           0.96       219\n",
      "   macro avg       0.96      0.96      0.96       219\n",
      "weighted avg       0.96      0.96      0.96       219\n",
      "\n"
     ]
    }
   ],
   "source": [
    "target_pred_svm = print_res(svm, testStd, df_temp[3].reshape(-1))"
   ]
  },
  {
   "cell_type": "code",
   "execution_count": 95,
   "metadata": {
    "ExecuteTime": {
     "end_time": "2021-02-02T14:18:01.846788Z",
     "start_time": "2021-02-02T14:18:01.836786Z"
    }
   },
   "outputs": [
    {
     "data": {
      "text/plain": [
       "0.9858405639803215"
      ]
     },
     "execution_count": 95,
     "metadata": {},
     "output_type": "execute_result"
    }
   ],
   "source": [
    "p, r = 0.9889, 0.9828\n",
    "2*p*r/(p+r)"
   ]
  },
  {
   "cell_type": "code",
   "execution_count": 90,
   "metadata": {
    "ExecuteTime": {
     "end_time": "2021-02-02T14:06:10.602591Z",
     "start_time": "2021-02-02T14:06:10.413495Z"
    },
    "code_folding": []
   },
   "outputs": [
    {
     "name": "stdout",
     "output_type": "stream",
     "text": [
      "预测对的结果数目为： 216\n",
      "预测错的的结果数目为： 3\n",
      "使用SVM预测的准确率为： 0.9863013698630136\n",
      "使用SVM预测的精确率为： 0.9777777777777777\n",
      "使用SVM预测的召回率为： 1.0\n",
      "使用SVM预测的F1值为： 0.9887640449438202\n",
      "使用SVM预测b的Cohen’s Kappa系数为： 0.9712258573117856\n",
      "使用SVM预测的分类报告为： \n",
      "               precision    recall  f1-score   support\n",
      "\n",
      "         0.0       1.00      0.97      0.98        87\n",
      "         1.0       0.98      1.00      0.99       132\n",
      "\n",
      "    accuracy                           0.99       219\n",
      "   macro avg       0.99      0.98      0.99       219\n",
      "weighted avg       0.99      0.99      0.99       219\n",
      "\n"
     ]
    }
   ],
   "source": [
    "target_pred_rf = print_res(rf, testStd, df_temp[3].reshape(-1))"
   ]
  },
  {
   "cell_type": "code",
   "execution_count": 74,
   "metadata": {
    "ExecuteTime": {
     "end_time": "2021-02-02T04:21:37.960752Z",
     "start_time": "2021-02-02T04:21:37.784231Z"
    }
   },
   "outputs": [],
   "source": [
    "fpr_svm, tpr_svm, thersholds_svm = roc_curve(df_temp[3].reshape(-1), target_pred_svm)\n",
    "roc_auc_svm = auc(fpr_svm, tpr_svm)\n",
    "fpr_rf, tpr_rf, thersholds_rf = roc_curve(df_temp[3].reshape(-1), target_pred_rf)\n",
    "roc_auc_rf = auc(fpr_rf, tpr_rf)\n",
    "\n",
    "fig = plt.figure(figsize=[6, 3.9])\n",
    "ax = plt.subplot()\n",
    "\n",
    "ax.plot(fpr_svm, tpr_svm, 'k--', color='navy', label='SVM (area = {0:.3f})'.format(roc_auc_svm), lw=2)\n",
    "ax.plot(fpr_rf, tpr_rf, 'k--', color='green', label='RF (area = {0:.3f})'.format(roc_auc_rf), lw=2)\n",
    "\n",
    "plot_norm(ax, 'True Positive Rate', 'False Positive Rate', legend_loc='lower right')"
   ]
  },
  {
   "cell_type": "code",
   "execution_count": 82,
   "metadata": {
    "ExecuteTime": {
     "end_time": "2021-02-02T04:30:31.058886Z",
     "start_time": "2021-02-02T04:30:30.999865Z"
    }
   },
   "outputs": [
    {
     "data": {
      "text/plain": [
       "(54.0, (108,))"
      ]
     },
     "execution_count": 82,
     "metadata": {},
     "output_type": "execute_result"
    }
   ],
   "source": [
    "fold = r'C:\\Users\\jonah\\Desktop\\Nano_Ni_3_cnts_4_~dislocation.csv'\n",
    "data = pd.read_csv(fold).astype(np.float32)\n",
    "nano_ni = data.values\n",
    "stdScaler = StandardScaler().fit(nano_ni)\n",
    "trainStd = stdScaler.transform(nano_ni)\n",
    "target_pred = rf.predict(trainStd)\n",
    "sum(target_pred), target_pred.shape"
   ]
  },
  {
   "cell_type": "markdown",
   "metadata": {},
   "source": [
    "### Crack"
   ]
  },
  {
   "cell_type": "code",
   "execution_count": 85,
   "metadata": {
    "ExecuteTime": {
     "end_time": "2021-02-02T12:01:18.287451Z",
     "start_time": "2021-02-02T12:01:17.924392Z"
    },
    "scrolled": false
   },
   "outputs": [
    {
     "name": "stdout",
     "output_type": "stream",
     "text": [
      "建立的SVM模型为：\n",
      " SVC(C=1.0, break_ties=False, cache_size=200, class_weight=None, coef0=0.0,\n",
      "    decision_function_shape='ovr', degree=3, gamma='scale', kernel='rbf',\n",
      "    max_iter=200, probability=False, random_state=100, shrinking=True,\n",
      "    tol=0.001, verbose=False)\n",
      "建立的RF模型为：\n",
      " RandomForestClassifier(bootstrap=True, ccp_alpha=0.0, class_weight=None,\n",
      "                       criterion='gini', max_depth=10, max_features='auto',\n",
      "                       max_leaf_nodes=None, max_samples=None,\n",
      "                       min_impurity_decrease=0.0, min_impurity_split=None,\n",
      "                       min_samples_leaf=1, min_samples_split=2,\n",
      "                       min_weight_fraction_leaf=0.0, n_estimators=100,\n",
      "                       n_jobs=None, oob_score=False, random_state=100,\n",
      "                       verbose=0, warm_start=False)\n"
     ]
    }
   ],
   "source": [
    "fold = r'C:\\Users\\jonah\\Desktop\\Ni_twinning&crack.csv'\n",
    "data = pd.read_csv(fold).astype(np.float32)\n",
    "feature = data.iloc[:, :-1].values\n",
    "label = np.array(data.iloc[:, -1].tolist()).reshape(-1, 1)\n",
    "\n",
    "df_temp = train_test_split(feature, label, test_size=0.2, stratify=label, random_state=69)\n",
    "stdScaler = StandardScaler().fit(df_temp[0])\n",
    "trainStd = stdScaler.transform(df_temp[0])\n",
    "testStd = stdScaler.transform(df_temp[1])\n",
    "\n",
    "svm = SVC(max_iter=200, random_state=100).fit(trainStd, df_temp[2].reshape(-1))\n",
    "print('建立的SVM模型为：\\n', svm)\n",
    "\n",
    "rf = RandomForestClassifier(max_depth=10, random_state=100).fit(trainStd, df_temp[2].reshape(-1))\n",
    "print('建立的RF模型为：\\n', rf)"
   ]
  },
  {
   "cell_type": "code",
   "execution_count": 86,
   "metadata": {
    "ExecuteTime": {
     "end_time": "2021-02-02T12:01:21.243929Z",
     "start_time": "2021-02-02T12:01:20.960984Z"
    }
   },
   "outputs": [
    {
     "name": "stdout",
     "output_type": "stream",
     "text": [
      "预测对的结果数目为： 135\n",
      "预测错的的结果数目为： 2\n",
      "使用SVM预测的准确率为： 0.9854014598540146\n",
      "使用SVM预测的精确率为： 0.9850746268656716\n",
      "使用SVM预测的召回率为： 1.0\n",
      "使用SVM预测的F1值为： 0.9924812030075187\n",
      "使用SVM预测b的Cohen’s Kappa系数为： 0.7429643527204502\n",
      "使用SVM预测的分类报告为： \n",
      "               precision    recall  f1-score   support\n",
      "\n",
      "         0.0       1.00      0.60      0.75         5\n",
      "         1.0       0.99      1.00      0.99       132\n",
      "\n",
      "    accuracy                           0.99       137\n",
      "   macro avg       0.99      0.80      0.87       137\n",
      "weighted avg       0.99      0.99      0.98       137\n",
      "\n"
     ]
    }
   ],
   "source": [
    "target_pred_svm = print_res(svm, testStd, df_temp[3].reshape(-1))"
   ]
  },
  {
   "cell_type": "code",
   "execution_count": 87,
   "metadata": {
    "ExecuteTime": {
     "end_time": "2021-02-02T12:01:45.943416Z",
     "start_time": "2021-02-02T12:01:45.760405Z"
    },
    "code_folding": []
   },
   "outputs": [
    {
     "name": "stdout",
     "output_type": "stream",
     "text": [
      "预测对的结果数目为： 137\n",
      "预测错的的结果数目为： 0\n",
      "使用SVM预测的准确率为： 1.0\n",
      "使用SVM预测的精确率为： 1.0\n",
      "使用SVM预测的召回率为： 1.0\n",
      "使用SVM预测的F1值为： 1.0\n",
      "使用SVM预测b的Cohen’s Kappa系数为： 1.0\n",
      "使用SVM预测的分类报告为： \n",
      "               precision    recall  f1-score   support\n",
      "\n",
      "         0.0       1.00      1.00      1.00         5\n",
      "         1.0       1.00      1.00      1.00       132\n",
      "\n",
      "    accuracy                           1.00       137\n",
      "   macro avg       1.00      1.00      1.00       137\n",
      "weighted avg       1.00      1.00      1.00       137\n",
      "\n"
     ]
    }
   ],
   "source": [
    "target_pred_rf = print_res(rf, testStd, df_temp[3].reshape(-1))"
   ]
  },
  {
   "cell_type": "code",
   "execution_count": 74,
   "metadata": {
    "ExecuteTime": {
     "end_time": "2021-02-02T04:21:37.960752Z",
     "start_time": "2021-02-02T04:21:37.784231Z"
    }
   },
   "outputs": [],
   "source": [
    "fpr_svm, tpr_svm, thersholds_svm = roc_curve(df_temp[3].reshape(-1), target_pred_svm)\n",
    "roc_auc_svm = auc(fpr_svm, tpr_svm)\n",
    "fpr_rf, tpr_rf, thersholds_rf = roc_curve(df_temp[3].reshape(-1), target_pred_rf)\n",
    "roc_auc_rf = auc(fpr_rf, tpr_rf)\n",
    "\n",
    "fig = plt.figure(figsize=[6, 3.9])\n",
    "ax = plt.subplot()\n",
    "\n",
    "ax.plot(fpr_svm, tpr_svm, 'k--', color='navy', label='SVM (area = {0:.3f})'.format(roc_auc_svm), lw=2)\n",
    "ax.plot(fpr_rf, tpr_rf, 'k--', color='green', label='RF (area = {0:.3f})'.format(roc_auc_rf), lw=2)\n",
    "\n",
    "plot_norm(ax, 'True Positive Rate', 'False Positive Rate', legend_loc='lower right')"
   ]
  }
 ],
 "metadata": {
  "kernelspec": {
   "display_name": "Python 3",
   "language": "python",
   "name": "python3"
  },
  "language_info": {
   "codemirror_mode": {
    "name": "ipython",
    "version": 3
   },
   "file_extension": ".py",
   "mimetype": "text/x-python",
   "name": "python",
   "nbconvert_exporter": "python",
   "pygments_lexer": "ipython3",
   "version": "3.8.5"
  },
  "toc": {
   "base_numbering": 1,
   "nav_menu": {},
   "number_sections": true,
   "sideBar": true,
   "skip_h1_title": false,
   "title_cell": "Table of Contents",
   "title_sidebar": "Contents",
   "toc_cell": false,
   "toc_position": {},
   "toc_section_display": true,
   "toc_window_display": false
  },
  "varInspector": {
   "cols": {
    "lenName": 16,
    "lenType": 16,
    "lenVar": 40
   },
   "kernels_config": {
    "python": {
     "delete_cmd_postfix": "",
     "delete_cmd_prefix": "del ",
     "library": "var_list.py",
     "varRefreshCmd": "print(var_dic_list())"
    },
    "r": {
     "delete_cmd_postfix": ") ",
     "delete_cmd_prefix": "rm(",
     "library": "var_list.r",
     "varRefreshCmd": "cat(var_dic_list()) "
    }
   },
   "types_to_exclude": [
    "module",
    "function",
    "builtin_function_or_method",
    "instance",
    "_Feature"
   ],
   "window_display": false
  }
 },
 "nbformat": 4,
 "nbformat_minor": 4
}
